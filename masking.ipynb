{
 "cells": [
  {
   "cell_type": "code",
   "execution_count": 1,
   "id": "185aea7c-ad93-461a-9a6a-7db8e1895576",
   "metadata": {},
   "outputs": [],
   "source": [
    "import geopandas as gpd\n",
    "import rasterio as rio\n",
    "import fiona\n",
    "import rioxarray as rxr\n",
    "import re, glob\n",
    "import pandas\n",
    "from shapely.geometry import Polygon\n",
    "import pandas as pd\n",
    "import os\n",
    "from rasterio.plot import show\n",
    "from rasterio.merge import merge\n",
    "from pathlib import Path\n",
    "import numpy as np\n",
    "from osgeo import gdal"
   ]
  },
  {
   "cell_type": "code",
   "execution_count": 2,
   "id": "b04a3dbd-e013-4161-849d-75bd13232745",
   "metadata": {},
   "outputs": [],
   "source": [
    "#%conda install --channel=conda-forge gdal\n",
    "# %conda update rioxarray"
   ]
  },
  {
   "cell_type": "code",
   "execution_count": 3,
   "id": "85bfc98c-15a8-489e-8b9c-2abf6080108e",
   "metadata": {},
   "outputs": [
    {
     "data": {
      "text/html": [
       "<div>\n",
       "<style scoped>\n",
       "    .dataframe tbody tr th:only-of-type {\n",
       "        vertical-align: middle;\n",
       "    }\n",
       "\n",
       "    .dataframe tbody tr th {\n",
       "        vertical-align: top;\n",
       "    }\n",
       "\n",
       "    .dataframe thead th {\n",
       "        text-align: right;\n",
       "    }\n",
       "</style>\n",
       "<table border=\"1\" class=\"dataframe\">\n",
       "  <thead>\n",
       "    <tr style=\"text-align: right;\">\n",
       "      <th></th>\n",
       "      <th>COMID</th>\n",
       "      <th>unitarea</th>\n",
       "      <th>slope_pl</th>\n",
       "      <th>uparea</th>\n",
       "      <th>geometry</th>\n",
       "    </tr>\n",
       "    <tr>\n",
       "      <th>COMID</th>\n",
       "      <th></th>\n",
       "      <th></th>\n",
       "      <th></th>\n",
       "      <th></th>\n",
       "      <th></th>\n",
       "    </tr>\n",
       "  </thead>\n",
       "  <tbody>\n",
       "    <tr>\n",
       "      <th>41000022</th>\n",
       "      <td>41000022</td>\n",
       "      <td>53.430461</td>\n",
       "      <td>0.039435</td>\n",
       "      <td>53.430461</td>\n",
       "      <td>POLYGON ((142.56708 54.30292, 142.56792 54.302...</td>\n",
       "    </tr>\n",
       "    <tr>\n",
       "      <th>41000030</th>\n",
       "      <td>41000030</td>\n",
       "      <td>56.638688</td>\n",
       "      <td>0.026666</td>\n",
       "      <td>56.638688</td>\n",
       "      <td>POLYGON ((141.98875 53.28292, 141.99542 53.282...</td>\n",
       "    </tr>\n",
       "    <tr>\n",
       "      <th>41000304</th>\n",
       "      <td>41000304</td>\n",
       "      <td>37.549159</td>\n",
       "      <td>0.007030</td>\n",
       "      <td>37.549159</td>\n",
       "      <td>POLYGON ((141.88208 52.67375, 141.88375 52.673...</td>\n",
       "    </tr>\n",
       "    <tr>\n",
       "      <th>41000202</th>\n",
       "      <td>41000202</td>\n",
       "      <td>88.947415</td>\n",
       "      <td>0.052965</td>\n",
       "      <td>88.947415</td>\n",
       "      <td>POLYGON ((142.53542 52.16292, 142.53958 52.162...</td>\n",
       "    </tr>\n",
       "    <tr>\n",
       "      <th>41000332</th>\n",
       "      <td>41000332</td>\n",
       "      <td>71.442812</td>\n",
       "      <td>0.066958</td>\n",
       "      <td>71.442812</td>\n",
       "      <td>POLYGON ((142.34458 51.56542, 142.34792 51.565...</td>\n",
       "    </tr>\n",
       "    <tr>\n",
       "      <th>...</th>\n",
       "      <td>...</td>\n",
       "      <td>...</td>\n",
       "      <td>...</td>\n",
       "      <td>...</td>\n",
       "      <td>...</td>\n",
       "    </tr>\n",
       "    <tr>\n",
       "      <th>49008387</th>\n",
       "      <td>49008387</td>\n",
       "      <td>41.623293</td>\n",
       "      <td>0.133969</td>\n",
       "      <td>41.623293</td>\n",
       "      <td>POLYGON ((81.90958 32.52458, 81.91042 32.52458...</td>\n",
       "    </tr>\n",
       "    <tr>\n",
       "      <th>49013157</th>\n",
       "      <td>49013157</td>\n",
       "      <td>65.608594</td>\n",
       "      <td>0.202877</td>\n",
       "      <td>65.608594</td>\n",
       "      <td>POLYGON ((85.64208 30.77792, 85.64375 30.77792...</td>\n",
       "    </tr>\n",
       "    <tr>\n",
       "      <th>49008386</th>\n",
       "      <td>49008386</td>\n",
       "      <td>64.178693</td>\n",
       "      <td>0.144355</td>\n",
       "      <td>64.178693</td>\n",
       "      <td>POLYGON ((83.36875 32.55625, 83.37042 32.55625...</td>\n",
       "    </tr>\n",
       "    <tr>\n",
       "      <th>49008740</th>\n",
       "      <td>49008740</td>\n",
       "      <td>100.034809</td>\n",
       "      <td>0.059397</td>\n",
       "      <td>100.034809</td>\n",
       "      <td>POLYGON ((91.63375 32.52625, 91.63708 32.52625...</td>\n",
       "    </tr>\n",
       "    <tr>\n",
       "      <th>49008908</th>\n",
       "      <td>49008908</td>\n",
       "      <td>31.996781</td>\n",
       "      <td>0.159435</td>\n",
       "      <td>31.996781</td>\n",
       "      <td>POLYGON ((88.24208 32.54625, 88.24292 32.54625...</td>\n",
       "    </tr>\n",
       "  </tbody>\n",
       "</table>\n",
       "<p>220599 rows × 5 columns</p>\n",
       "</div>"
      ],
      "text/plain": [
       "             COMID    unitarea  slope_pl      uparea   \n",
       "COMID                                                  \n",
       "41000022  41000022   53.430461  0.039435   53.430461  \\\n",
       "41000030  41000030   56.638688  0.026666   56.638688   \n",
       "41000304  41000304   37.549159  0.007030   37.549159   \n",
       "41000202  41000202   88.947415  0.052965   88.947415   \n",
       "41000332  41000332   71.442812  0.066958   71.442812   \n",
       "...            ...         ...       ...         ...   \n",
       "49008387  49008387   41.623293  0.133969   41.623293   \n",
       "49013157  49013157   65.608594  0.202877   65.608594   \n",
       "49008386  49008386   64.178693  0.144355   64.178693   \n",
       "49008740  49008740  100.034809  0.059397  100.034809   \n",
       "49008908  49008908   31.996781  0.159435   31.996781   \n",
       "\n",
       "                                                   geometry  \n",
       "COMID                                                        \n",
       "41000022  POLYGON ((142.56708 54.30292, 142.56792 54.302...  \n",
       "41000030  POLYGON ((141.98875 53.28292, 141.99542 53.282...  \n",
       "41000304  POLYGON ((141.88208 52.67375, 141.88375 52.673...  \n",
       "41000202  POLYGON ((142.53542 52.16292, 142.53958 52.162...  \n",
       "41000332  POLYGON ((142.34458 51.56542, 142.34792 51.565...  \n",
       "...                                                     ...  \n",
       "49008387  POLYGON ((81.90958 32.52458, 81.91042 32.52458...  \n",
       "49013157  POLYGON ((85.64208 30.77792, 85.64375 30.77792...  \n",
       "49008386  POLYGON ((83.36875 32.55625, 83.37042 32.55625...  \n",
       "49008740  POLYGON ((91.63375 32.52625, 91.63708 32.52625...  \n",
       "49008908  POLYGON ((88.24208 32.54625, 88.24292 32.54625...  \n",
       "\n",
       "[220599 rows x 5 columns]"
      ]
     },
     "execution_count": 3,
     "metadata": {},
     "output_type": "execute_result"
    }
   ],
   "source": [
    "hydrosheds_firstorder = gpd.read_file(\"/nas/cee-water/cjgleason/wenwen/SARN_HMA/hydrosheds_firstorder.shp\")\n",
    "hydrosheds_firstorder = hydrosheds_firstorder.set_index(hydrosheds_firstorder.COMID)\n",
    "hydrosheds_firstorder"
   ]
  },
  {
   "cell_type": "code",
   "execution_count": 4,
   "id": "eb061036-1ceb-4949-b3a9-be7600f94f3c",
   "metadata": {},
   "outputs": [
    {
     "name": "stdout",
     "output_type": "stream",
     "text": [
      "0      POLYGON ((86.35708 27.19125, 86.35708 27.19042...\n",
      "1      POLYGON ((86.13708 27.20208, 86.13708 27.20125...\n",
      "2      POLYGON ((86.16458 27.17042, 86.16458 27.16958...\n",
      "3      POLYGON ((86.25292 27.13125, 86.25292 27.13042...\n",
      "4      POLYGON ((86.49292 27.56875, 86.49292 27.56958...\n",
      "                             ...                        \n",
      "746    POLYGON ((83.93458 28.44125, 83.93375 28.44125...\n",
      "747    POLYGON ((83.61958 28.42458, 83.61958 28.42375...\n",
      "748    POLYGON ((83.60792 28.39708, 83.60792 28.39625...\n",
      "749    POLYGON ((83.74292 28.42125, 83.74292 28.42042...\n",
      "750    POLYGON ((83.43125 28.34042, 83.43125 28.34125...\n",
      "Name: geometry, Length: 751, dtype: geometry\n",
      "EPSG:4326\n"
     ]
    }
   ],
   "source": [
    "intersection = gpd.read_file(\"/nas/cee-water/cjgleason/wenwen/SARN_HMA/overlay.shp\")\n",
    "print(intersection.geometry)\n",
    "print(intersection.crs)"
   ]
  },
  {
   "cell_type": "code",
   "execution_count": 5,
   "id": "a3ad1679-9645-4f2c-8c65-d5ce922750ba",
   "metadata": {},
   "outputs": [],
   "source": [
    "lst = intersection.COMID\n",
    "COMID_lst = [*set(lst)]\n",
    "#COMID_lst"
   ]
  },
  {
   "cell_type": "code",
   "execution_count": 6,
   "id": "0378eb74-8970-4aa0-a884-a361cf3a2d60",
   "metadata": {},
   "outputs": [
    {
     "data": {
      "text/plain": [
       "637"
      ]
     },
     "execution_count": 6,
     "metadata": {},
     "output_type": "execute_result"
    }
   ],
   "source": [
    "len(COMID_lst)"
   ]
  },
  {
   "cell_type": "code",
   "execution_count": 7,
   "id": "b2e8c8ce-fc8a-407c-a004-72d9047e01a6",
   "metadata": {},
   "outputs": [
    {
     "data": {
      "text/plain": [
       "[45017090,\n",
       " 45017091,\n",
       " 45035523,\n",
       " 45035530,\n",
       " 45039636,\n",
       " 45021208,\n",
       " 45017113,\n",
       " 45029406,\n",
       " 45039647,\n",
       " 45025313,\n",
       " 45029417,\n",
       " 45039668,\n",
       " 45025334,\n",
       " 45017143,\n",
       " 45029437,\n",
       " 45029444,\n",
       " 45025351,\n",
       " 45021256,\n",
       " 45029459,\n",
       " 45021270,\n",
       " 45025367,\n",
       " 45029465,\n",
       " 45029475,\n",
       " 45021292,\n",
       " 45017198,\n",
       " 45017202,\n",
       " 45021306,\n",
       " 45041793,\n",
       " 45027463,\n",
       " 45029512]"
      ]
     },
     "execution_count": 7,
     "metadata": {},
     "output_type": "execute_result"
    }
   ],
   "source": [
    "COMID_lst = COMID_lst[:30]\n",
    "COMID_lst "
   ]
  },
  {
   "cell_type": "markdown",
   "id": "9c73b43d-8b47-486e-904d-4e303ee45247",
   "metadata": {
    "tags": []
   },
   "source": [
    "### MAIN CODE"
   ]
  },
  {
   "cell_type": "code",
   "execution_count": 8,
   "id": "7698968d-f268-41ae-93a4-a976847e8869",
   "metadata": {},
   "outputs": [],
   "source": [
    "#COMID_lst = [45016003, 45021759, 45022197, 45021775]"
   ]
  },
  {
   "cell_type": "code",
   "execution_count": 9,
   "id": "f834aee3-662b-43af-9229-a6ce5cb2d4d8",
   "metadata": {},
   "outputs": [],
   "source": [
    "#raster"
   ]
  },
  {
   "cell_type": "code",
   "execution_count": 10,
   "id": "98d0853a-02f3-4a4a-a8fd-d1fa99d73253",
   "metadata": {},
   "outputs": [],
   "source": [
    "#merged_projected.crs"
   ]
  },
  {
   "cell_type": "code",
   "execution_count": 11,
   "id": "d1cfea6a-6736-432b-b0ac-9266e1b3fee0",
   "metadata": {},
   "outputs": [
    {
     "name": "stderr",
     "output_type": "stream",
     "text": [
      "ERROR 4: path_of_the_file.tif: No such file or directory\n"
     ]
    },
    {
     "ename": "AttributeError",
     "evalue": "'NoneType' object has no attribute 'GetGeoTransform'",
     "output_type": "error",
     "traceback": [
      "\u001b[0;31m---------------------------------------------------------------------------\u001b[0m",
      "\u001b[0;31mAttributeError\u001b[0m                            Traceback (most recent call last)",
      "Cell \u001b[0;32mIn[11], line 2\u001b[0m\n\u001b[1;32m      1\u001b[0m step1 \u001b[38;5;241m=\u001b[39m gdal\u001b[38;5;241m.\u001b[39mOpen(\u001b[38;5;124m'\u001b[39m\u001b[38;5;124mpath_of_the_file.tif\u001b[39m\u001b[38;5;124m'\u001b[39m, gdal\u001b[38;5;241m.\u001b[39mGA_ReadOnly)\n\u001b[0;32m----> 2\u001b[0m GT_input \u001b[38;5;241m=\u001b[39m \u001b[43mstep1\u001b[49m\u001b[38;5;241;43m.\u001b[39;49m\u001b[43mGetGeoTransform\u001b[49m()\n",
      "\u001b[0;31mAttributeError\u001b[0m: 'NoneType' object has no attribute 'GetGeoTransform'"
     ]
    }
   ],
   "source": [
    "step1 = gdal.Open('path_of_the_file.tif', gdal.GA_ReadOnly)\n",
    "GT_input = step1.GetGeoTransform()"
   ]
  },
  {
   "cell_type": "code",
   "execution_count": 14,
   "id": "c94b634a-f784-43f9-9be3-62c1f5564fea",
   "metadata": {},
   "outputs": [],
   "source": [
    "COMID_lst = [45039031]\n",
    "for ID in COMID_lst: \n",
    "    merged = hydrosheds_firstorder[hydrosheds_firstorder.COMID==ID]\n",
    "    df = intersection[intersection.COMID==ID]\n",
    "    \n",
    "    for i in list(df.index.values): \n",
    "        \n",
    "        #get DEM crs from DEM_ID \n",
    "        dem_id = df.DEM_ID[i]\n",
    "        utm = \"326\" + dem_id[3:5]\n",
    "        \n",
    "        #reproject watershed polygon \n",
    "        merged_setcrs = merged.set_crs('EPSG:4326')\n",
    "        merged_projected = merged_setcrs.to_crs('EPSG:'+ utm)\n",
    "\n",
    "        dem_path = os.path.join(\"/nas/cee-water/cjgleason/wenwen/SARN_HMA/EarthDEM/Order_Downloads_2023-02-22-2002/earthdem\", df.DEM_ID[i], df.DEM_ID[i]+\"_dem.tif\")\n",
    "        raster = rxr.open_rasterio(dem_path)\n",
    "        \n",
    "        # Use geopandas/shapely to clip raster\n",
    "        clipped_raster = raster.rio.clip([merged_projected.geometry[ID]])\n",
    "        \n",
    "        # Save clipped raster\n",
    "        clipped_raster.rio.to_raster(str(ID)+ \"_\" + str(dem_id)+'.tif')\n",
    "        \n",
    "#         dst_crs=merged_projected.crs\n",
    "        \n",
    "#         step1 = gdal.Open(dem_path, gdal.GA_ReadOnly)\n",
    "#         GT_input = step1.GetGeoTransform()\n",
    "\n",
    "        # with rio.open(\n",
    "        #     str(ID)+ \"_\" + str(dem_id)+'.tif',\n",
    "        #     'w',\n",
    "        #     driver='GTiff',\n",
    "        #     height=clipped_raster.shape[0],\n",
    "        #     width=clipped_raster.shape[1],\n",
    "        #     count=1,\n",
    "        #     dtype=np.float32,\n",
    "        #     crs=dst_crs,\n",
    "        #     transform=GT_input,\n",
    "        # ) as dest_file:\n",
    "        #     dest_file.write(clipped_raster, 1)\n",
    "        # dest_file.close()   \n",
    "        \n",
    "    #empty list of masked rasters to merge \n",
    "    raster_to_mosiac = []\n",
    "    \n",
    "    #append masked rasters to list \n",
    "    for i in list(df.index.values):\n",
    "        dem_id = df.DEM_ID[i]\n",
    "        folder = \"/nas/cee-water/cjgleason/wenwen/SARN_HMA\"\n",
    "        path = os.path.join(folder, str(ID)+\"_\"+str(dem_id)+'.tif')\n",
    "        raster = rio.open(path)\n",
    "        raster_to_mosiac.append(raster)\n",
    "    \n",
    "    #merge list of rasters \n",
    "    mosaic, output = merge(raster_to_mosiac)\n",
    "    \n",
    "    #update mosaic metadata\n",
    "    output_meta = raster.meta.copy()\n",
    "    output_meta.update(\n",
    "        {\"driver\": \"GTiff\",\n",
    "            \"height\": mosaic.shape[1],\n",
    "            \"width\": mosaic.shape[2],\n",
    "            \"transform\": output,\n",
    "        }\n",
    "    )\n",
    "    \n",
    "    #write mosaic to folder \n",
    "    output_path = \"/nas/cee-water/cjgleason/wenwen/SARN_HMA/mask_mosaics/\"+str(ID)+\".tif\"\n",
    "    with rio.open(output_path, \"w\", **output_meta) as m:\n",
    "        m.write(mosaic)\n",
    "        \n",
    "    #delete intermediate tif files\n",
    "    for i in list(df.index.values):\n",
    "        dem_id = df.DEM_ID[i]\n",
    "        folder = \"/nas/cee-water/cjgleason/wenwen/SARN_HMA\"\n",
    "        path = os.path.join(folder, str(ID)+\"_\"+str(dem_id)+'.tif')\n",
    "        os.remove(path)"
   ]
  },
  {
   "cell_type": "code",
   "execution_count": null,
   "id": "5e76abf6-b550-488d-a77b-73e821981f43",
   "metadata": {},
   "outputs": [],
   "source": [
    "# original code that suddenly stopped working...\n",
    "\n",
    "COMID_lst = [45039031]\n",
    "for ID in COMID_lst: \n",
    "    merged = hydrosheds_firstorder[hydrosheds_firstorder.COMID==ID]\n",
    "    df = intersection[intersection.COMID==ID]\n",
    "    \n",
    "    for i in list(df.index.values): \n",
    "        \n",
    "        #get DEM crs from DEM_ID \n",
    "        dem_id = df.DEM_ID[i]\n",
    "        utm = \"326\" + dem_id[3:5]\n",
    "        \n",
    "        #reproject watershed polygon \n",
    "        merged_setcrs = merged.set_crs('EPSG:4326')\n",
    "        merged_projected = merged_setcrs.to_crs('EPSG:'+ utm)\n",
    "        \n",
    "        dem_path = os.path.join(\"/nas/cee-water/cjgleason/wenwen/SARN_HMA/EarthDEM/Order_Downloads_2023-02-22-2002/earthdem\", df.DEM_ID[i], df.DEM_ID[i]+\"_dem.tif\")\n",
    "        raster = rxr.open_rasterio(dem_path)\n",
    "        \n",
    "        # Use geopandas/shapely to clip raster\n",
    "        clipped_raster = raster.rio.clip([merged_projected.geometry[ID]])\n",
    "        \n",
    "        # Save clipped raster\n",
    "        clipped_raster.rio.to_raster(str(ID)+ \"_\" + str(dem_id)+'.tif')\n",
    "        \n",
    "    #empty list of masked rasters to merge \n",
    "    raster_to_mosiac = []\n",
    "    \n",
    "    #append masked rasters to list \n",
    "    for i in list(df.index.values):\n",
    "        dem_id = df.DEM_ID[i]\n",
    "        folder = \"/nas/cee-water/cjgleason/wenwen/SARN_HMA\"\n",
    "        path = os.path.join(folder, str(ID)+\"_\"+str(dem_id)+'.tif')\n",
    "        raster = rio.open(path)\n",
    "        raster_to_mosiac.append(raster)\n",
    "    \n",
    "    #merge list of rasters \n",
    "    mosaic, output = merge(raster_to_mosiac)\n",
    "    \n",
    "    #update mosaic metadata\n",
    "    output_meta = raster.meta.copy()\n",
    "    output_meta.update(\n",
    "        {\"driver\": \"GTiff\",\n",
    "            \"height\": mosaic.shape[1],\n",
    "            \"width\": mosaic.shape[2],\n",
    "            \"transform\": output,\n",
    "        }\n",
    "    )\n",
    "    \n",
    "    #write mosaic to folder \n",
    "    output_path = \"/nas/cee-water/cjgleason/wenwen/SARN_HMA/mask_mosaics/\"+str(ID)+\".tif\"\n",
    "    with rio.open(output_path, \"w\", **output_meta) as m:\n",
    "        m.write(mosaic)\n",
    "        \n",
    "    #delete intermediate tif files\n",
    "    for i in list(df.index.values):\n",
    "        dem_id = df.DEM_ID[i]\n",
    "        folder = \"/nas/cee-water/cjgleason/wenwen/SARN_HMA\"\n",
    "        path = os.path.join(folder, str(ID)+\"_\"+str(dem_id)+'.tif')\n",
    "        os.remove(path)"
   ]
  },
  {
   "cell_type": "code",
   "execution_count": null,
   "id": "d03ba131-0a74-44f5-ae99-3bbe15a9a001",
   "metadata": {},
   "outputs": [],
   "source": [
    "merged = hydrosheds_firstorder[hydrosheds_firstorder.COMID==45039031]"
   ]
  },
  {
   "cell_type": "code",
   "execution_count": null,
   "id": "eacf88e5-0588-4af6-9a10-ff4b7401e2c9",
   "metadata": {},
   "outputs": [],
   "source": [
    "merged.geometry[45039031]"
   ]
  },
  {
   "cell_type": "code",
   "execution_count": null,
   "id": "8bc3e5eb-d59f-4575-8283-b82cc16ded97",
   "metadata": {},
   "outputs": [],
   "source": [
    "COMID_lst = [45017012]\n",
    "for ID in COMID_lst: \n",
    "    df = intersection[intersection.COMID==ID]\n",
    "    geom = df.geometry\n",
    "    \n",
    "    for i in list(df.index.values): \n",
    "        print(i)\n",
    "        #get DEM crs from DEM_ID \n",
    "        dem_id = df.DEM_ID[i]\n",
    "        print(dem_id)\n",
    "        utm = \"326\" + dem_id[3:5]\n",
    "        print(utm)\n",
    "        \n",
    "        #reproject watershed polygon \n",
    "        merged_setcrs = merged.set_crs('EPSG:4326')\n",
    "        merged_projected = merged_setcrs.to_crs('EPSG:'+ utm)\n",
    "        \n",
    "        dem_path = os.path.join(\"/nas/cee-water/cjgleason/wenwen/SARN_HMA/EarthDEM/Order_Downloads_2023-02-22-2002/earthdem\", df.DEM_ID[i], df.DEM_ID[i]+\"_dem.tif\")\n",
    "        raster = rxr.open_rasterio(dem_path)\n",
    "        \n",
    "        # Use geopandas/shapely to clip raster\n",
    "        clipped_raster = raster.rio.clip([merged_projected.geometry[ID]])\n",
    "        \n",
    "        # Save clipped raster\n",
    "        clipped_raster.rio.to_raster(str(ID)+\"_\"+str(dem_id)+'test.tif')"
   ]
  },
  {
   "cell_type": "code",
   "execution_count": null,
   "id": "0b5e2f29-13e3-4170-b77c-0a721e71cb23",
   "metadata": {},
   "outputs": [],
   "source": [
    "COMID_lst = [45039031]\n",
    "for ID in COMID_lst: \n",
    "    df = intersection[intersection.COMID==ID]\n",
    "    geom = df.geometry\n",
    "        \n",
    "    #empty list of masked rasters to merge \n",
    "    raster_to_mosiac = []\n",
    "    \n",
    "    #append masked rasters to list \n",
    "    for i in list(df.index.values):\n",
    "        dem_id = df.DEM_ID[i]\n",
    "        folder = \"/nas/cee-water/cjgleason/wenwen/SARN_HMA\"\n",
    "        path = os.path.join(folder, str(ID)+\"_\"+str(dem_id)+'test.tif')\n",
    "        raster = rio.open(path)\n",
    "        raster_to_mosiac.append(raster)\n",
    "    \n",
    "    #merge list of rasters \n",
    "    mosaic, output = merge(raster_to_mosiac)\n",
    "    \n",
    "    #update mosaic metadata\n",
    "    output_meta = raster.meta.copy()\n",
    "    output_meta.update(\n",
    "        {\"driver\": \"GTiff\",\n",
    "            \"height\": mosaic.shape[1],\n",
    "            \"width\": mosaic.shape[2],\n",
    "            \"transform\": output,\n",
    "        }\n",
    "    )\n",
    "    \n",
    "    #write mosaic to folder \n",
    "    output_path = \"/nas/cee-water/cjgleason/wenwen/SARN_HMA/mask_mosaics/\"+str(ID)+\"test.tif\"\n",
    "    with rio.open(output_path, \"w\", **output_meta) as m:\n",
    "        m.write(mosaic)\n",
    "        "
   ]
  },
  {
   "cell_type": "code",
   "execution_count": null,
   "id": "a3cbe70e-f17d-4f7a-9a6b-45380e06a634",
   "metadata": {},
   "outputs": [],
   "source": [
    "geom_projected"
   ]
  },
  {
   "cell_type": "code",
   "execution_count": null,
   "id": "3f72e5fa-f79d-4ffc-90a6-c7a22679cc41",
   "metadata": {},
   "outputs": [],
   "source": [
    "geom_projected.to_file(str(ID)+\".shp\")"
   ]
  },
  {
   "cell_type": "code",
   "execution_count": null,
   "id": "668dca85-c1c9-47e2-bc7e-4b947edc1ea5",
   "metadata": {},
   "outputs": [],
   "source": [
    "COMID_lst = [45039031]\n",
    "for ID in COMID_lst: \n",
    "    df = intersection[intersection.COMID==ID]\n",
    "    geom = df.geometry\n",
    "    \n",
    "    for i in list(df.index.values): \n",
    "        \n",
    "        #get DEM crs from DEM_ID \n",
    "        dem_id = df.DEM_ID[i]\n",
    "        utm = \"326\" + dem_id[3:5]\n",
    "        \n",
    "        #reproject watershed polygon \n",
    "        geom_setcrs = geom.set_crs('EPSG:4326')\n",
    "        geom_projected = geom_setcrs.to_crs('EPSG:'+ utm)\n",
    "        \n",
    "        dem_path = os.path.join(\"/nas/cee-water/cjgleason/wenwen/SARN_HMA/EarthDEM/Order_Downloads_2023-02-22-2002/earthdem\", df.DEM_ID[i], df.DEM_ID[i]+\"_dem.tif\")\n",
    "        raster = rxr.open_rasterio(dem_path)\n",
    "        \n",
    "        # Use geopandas/shapely to clip raster\n",
    "        clipped_raster = raster.rio.clip([geom_projected.geometry[i]])\n",
    "        \n",
    "        # Save clipped raster\n",
    "        clipped_raster.rio.to_raster(str(ID)+\"_\"+str(dem_id)+'.tif')\n",
    "        \n",
    "    #empty list of masked rasters to merge \n",
    "    raster_to_mosiac = []\n",
    "    \n",
    "    #append masked rasters to list \n",
    "    for i in list(df.index.values):\n",
    "        dem_id = df.DEM_ID[i]\n",
    "        folder = \"/nas/cee-water/cjgleason/wenwen/SARN_HMA\"\n",
    "        path = os.path.join(folder, str(ID)+\"_\"+str(dem_id)+'.tif')\n",
    "        raster = rio.open(path)\n",
    "        raster_to_mosiac.append(raster)\n",
    "    \n",
    "    #merge list of rasters \n",
    "    mosaic, output = merge(raster_to_mosiac)\n",
    "    \n",
    "    #update mosaic metadata\n",
    "    output_meta = raster.meta.copy()\n",
    "    output_meta.update(\n",
    "        {\"driver\": \"GTiff\",\n",
    "            \"height\": mosaic.shape[1],\n",
    "            \"width\": mosaic.shape[2],\n",
    "            \"transform\": output,\n",
    "        }\n",
    "    )\n",
    "    \n",
    "    #write mosaic to folder \n",
    "    output_path = \"/nas/cee-water/cjgleason/wenwen/SARN_HMA/mask_mosaics/\"+str(ID)+\".tif\"\n",
    "    with rio.open(output_path, \"w\", **output_meta) as m:\n",
    "        m.write(mosaic)\n",
    "        \n",
    "    #delete intermediate tif files\n",
    "    #for i in list(df.index.values):\n",
    "        #dem_id = df.DEM_ID[i]\n",
    "        #folder = \"/nas/cee-water/cjgleason/wenwen/SARN_HMA\"\n",
    "        #path = os.path.join(folder, str(ID)+\"_\"+str(dem_id)+'.tif')\n",
    "        #os.remove(path)"
   ]
  },
  {
   "cell_type": "code",
   "execution_count": null,
   "id": "848ff02a-09f7-446e-96ef-dca5c3122a55",
   "metadata": {},
   "outputs": [],
   "source": [
    "# attempting to do the same without saving the intermediate masks as tifs\n",
    "COMID_lst = [45035863]\n",
    "for ID in COMID_lst: \n",
    "    df = intersection[intersection.COMID==ID]\n",
    "    geom = df.geometry\n",
    "    \n",
    "    #empty list of masked rasters to merge \n",
    "    raster_to_mosiac = []\n",
    "    \n",
    "    for i in list(df.index.values): \n",
    "        \n",
    "        #get DEM crs from DEM_ID \n",
    "        dem_id = df.DEM_ID[i]\n",
    "        utm = \"326\" + dem_id[3:5]\n",
    "        \n",
    "        #reproject watershed polygon \n",
    "        geom_setcrs = geom.set_crs('EPSG:4326')\n",
    "        geom_projected = geom_setcrs.to_crs('EPSG:'+ utm)\n",
    "        \n",
    "        dem_path = os.path.join(\"/nas/cee-water/cjgleason/wenwen/SARN_HMA/EarthDEM/Order_Downloads_2023-02-22-2002/earthdem\", df.DEM_ID[i], df.DEM_ID[i]+\"_dem.tif\")\n",
    "        raster = rxr.open_rasterio(dem_path)\n",
    "        \n",
    "        # Use geopandas/shapely to clip raster\n",
    "        clipped_raster = raster.rio.clip([geom_projected.geometry[i]])\n",
    "        \n",
    "        raster_to_mosiac.append(clipped_raster)\n",
    "\n",
    "    \n",
    "    #append masked rasters to list \n",
    "    for i in list(df.index.values):\n",
    "        dem_id = df.DEM_ID[i]\n",
    "        folder = \"/nas/cee-water/cjgleason/wenwen/SARN_HMA\"\n",
    "        path = os.path.join(folder, str(ID)+\"_\"+str(dem_id)+'.tif')\n",
    "        raster = rio.open(path)\n",
    "        raster_to_mosiac.append(raster)\n",
    "    \n",
    "    #merge list of rasters \n",
    "    mosaic, output = merge(raster_to_mosiac)\n",
    "    \n",
    "    #update mosaic metadata\n",
    "    output_meta = raster.meta.copy()\n",
    "    output_meta.update(\n",
    "        {\"driver\": \"GTiff\",\n",
    "            \"height\": mosaic.shape[1],\n",
    "            \"width\": mosaic.shape[2],\n",
    "            \"transform\": output,\n",
    "        }\n",
    "    )\n",
    "    \n",
    "    #write mosaic to folder \n",
    "    output_path = \"/nas/cee-water/cjgleason/wenwen/SARN_HMA/mask_mosaics/\"+str(ID)+\".tif\"\n",
    "    with rio.open(output_path, \"w\", **output_meta) as m:\n",
    "        m.write(mosaic)"
   ]
  },
  {
   "cell_type": "code",
   "execution_count": null,
   "id": "a9b03295-7670-4d7d-8f61-05e37825a27f",
   "metadata": {},
   "outputs": [],
   "source": []
  },
  {
   "cell_type": "code",
   "execution_count": null,
   "id": "4b772e7a-8cbc-4566-901a-47ff234ffea5",
   "metadata": {},
   "outputs": [],
   "source": [
    "i=0 "
   ]
  },
  {
   "cell_type": "code",
   "execution_count": null,
   "id": "aa94215a-7c3f-434d-b204-09c4fedfd720",
   "metadata": {},
   "outputs": [],
   "source": [
    "geoms = intersection[\"geometry\"]\n",
    "\n",
    "geoms = geoms.set_crs('EPSG:4326')\n",
    "print(geoms.geometry)\n",
    "\n",
    "#see how the polygon geometry values changes after we reproject \n",
    "geoms = geoms.to_crs('EPSG:32645')\n",
    "print('\\nReprojected: \\n',geoms.geometry)\n"
   ]
  },
  {
   "cell_type": "code",
   "execution_count": null,
   "id": "fe20371e-360d-47db-a17b-c63e2ccb5c52",
   "metadata": {},
   "outputs": [],
   "source": [
    "dem_path = os.path.join(\"/nas/cee-water/cjgleason/wenwen/SARN_HMA/EarthDEM/Order_Downloads_2023-02-22-2002/earthdem\", intersection.DEM_ID[i], intersection.DEM_ID[i]+\"_dem.tif\")\n",
    "raster = rxr.open_rasterio(dem_path)\n",
    "dem_path"
   ]
  },
  {
   "cell_type": "code",
   "execution_count": null,
   "id": "d0904045-3128-40d2-b5f7-192cdf8b41c9",
   "metadata": {},
   "outputs": [],
   "source": [
    "raster"
   ]
  },
  {
   "cell_type": "code",
   "execution_count": null,
   "id": "d6ae9c0a-1f26-4757-a5db-f541f1705fb9",
   "metadata": {},
   "outputs": [],
   "source": [
    "# Use geopandas/shapely to clip raster\n",
    "clipped_raster = raster.rio.clip([geoms.geometry[0]])\n",
    "\n",
    "# Save clipped raster\n",
    "clipped_raster.rio.to_raster('riox_clip_int.tif')"
   ]
  },
  {
   "cell_type": "code",
   "execution_count": null,
   "id": "b595e8f9-7bac-496b-804a-e0300038b251",
   "metadata": {},
   "outputs": [],
   "source": [
    "# Inspecting the output tif file\n",
    "with rasterio.open('/nas/cee-water/cjgleason/wenwen/SARN_HMA/45035863_utm45n_30_03_2_2_2m_v1.0.tif', 'r') as src:\n",
    "    img = src.read(1)\n",
    "    img_met = src.meta\n",
    "    \n",
    "import matplotlib.pyplot as plt\n",
    "plt.imshow(img)\n",
    "img_met"
   ]
  },
  {
   "cell_type": "code",
   "execution_count": null,
   "id": "2715140b-3b3f-41b0-9920-b9a1ad66ffd2",
   "metadata": {},
   "outputs": [],
   "source": [
    "# Inspecting the output tif file\n",
    "with rasterio.open('/nas/cee-water/cjgleason/wenwen/SARN_HMA/45035863_utm45n_31_03_1_2_2m_v1.0.tif', 'r') as src:\n",
    "    img = src.read(1)\n",
    "    img_met = src.meta\n",
    "    \n",
    "import matplotlib.pyplot as plt\n",
    "plt.imshow(img)\n",
    "img_met"
   ]
  },
  {
   "cell_type": "code",
   "execution_count": null,
   "id": "13c20f42-7913-47f7-97e3-a7e8afbc45ef",
   "metadata": {},
   "outputs": [],
   "source": [
    "# Inspecting the output tif file\n",
    "with rasterio.open('/nas/cee-water/cjgleason/wenwen/SARN_HMA/mask_mosaics/45035863.tif', 'r') as src:\n",
    "    img = src.read(1)\n",
    "    img_met = src.meta\n",
    "    \n",
    "import matplotlib.pyplot as plt\n",
    "plt.imshow(img)\n",
    "img_met"
   ]
  },
  {
   "cell_type": "markdown",
   "id": "eece9c67-f570-499e-b856-248005e10ac2",
   "metadata": {},
   "source": [
    "Working through the for loop: "
   ]
  },
  {
   "cell_type": "code",
   "execution_count": null,
   "id": "79befd81-5050-4bde-8dbf-664a6eb2707a",
   "metadata": {},
   "outputs": [],
   "source": [
    "len(COMID_lst)"
   ]
  },
  {
   "cell_type": "code",
   "execution_count": null,
   "id": "49893a81-b04e-4d65-ac21-fbffdf79a193",
   "metadata": {},
   "outputs": [],
   "source": [
    "ID = 45035863"
   ]
  },
  {
   "cell_type": "code",
   "execution_count": null,
   "id": "2e7208e7-a11e-45b1-8e88-704e971495eb",
   "metadata": {},
   "outputs": [],
   "source": [
    "df = intersection[intersection.COMID==ID]\n",
    "df"
   ]
  },
  {
   "cell_type": "code",
   "execution_count": null,
   "id": "9f116d06-535d-4060-80ce-20dbd4b8109d",
   "metadata": {},
   "outputs": [],
   "source": [
    "i=0\n",
    "ID = 45035863"
   ]
  },
  {
   "cell_type": "code",
   "execution_count": null,
   "id": "a4fc1037-bb87-4a18-b6b6-5f03fe588d99",
   "metadata": {},
   "outputs": [],
   "source": [
    "df = intersection[intersection.COMID==ID]\n",
    "geom = df.geometry\n",
    "\n",
    "#get DEM crs from DEM_ID \n",
    "dem_id = df.DEM_ID[i]\n",
    "\n",
    "utm = \"326\" + dem_id[3:5]"
   ]
  },
  {
   "cell_type": "code",
   "execution_count": null,
   "id": "be7ef093-7edb-48d2-b635-9b32f7f1a851",
   "metadata": {},
   "outputs": [],
   "source": [
    "dem_id"
   ]
  },
  {
   "cell_type": "code",
   "execution_count": null,
   "id": "9a3e038e-064a-4bcc-9a09-f5f713ce11b6",
   "metadata": {},
   "outputs": [],
   "source": [
    "#reproject watershed polygon \n",
    "geom_setcrs = geom.set_crs('EPSG:4326')\n",
    "geom_projected = geom_setcrs.to_crs('EPSG:'+ utm)"
   ]
  },
  {
   "cell_type": "code",
   "execution_count": null,
   "id": "cf943d89-0398-4908-bfd1-1b8a6707aef3",
   "metadata": {},
   "outputs": [],
   "source": [
    "dem_path = os.path.join(\"/nas/cee-water/cjgleason/wenwen/SARN_HMA/EarthDEM/Order_Downloads_2023-02-22-2002/earthdem\", df.DEM_ID[i], df.DEM_ID[i]+\"_dem.tif\")\n",
    "dem_path"
   ]
  },
  {
   "cell_type": "code",
   "execution_count": null,
   "id": "f3966259-3f52-470f-a660-0be36902830c",
   "metadata": {},
   "outputs": [],
   "source": [
    "raster = rxr.open_rasterio(dem_path)"
   ]
  },
  {
   "cell_type": "code",
   "execution_count": null,
   "id": "390ace65-dbb3-44e5-ae08-3082046780b5",
   "metadata": {},
   "outputs": [],
   "source": [
    "clipped_raster = raster.rio.clip([geom_projected.geometry[0]])"
   ]
  },
  {
   "cell_type": "code",
   "execution_count": null,
   "id": "dbe45ad2-5da6-4e0a-a96e-5cc2eedf3ce7",
   "metadata": {},
   "outputs": [],
   "source": [
    "clipped_raster"
   ]
  },
  {
   "cell_type": "code",
   "execution_count": null,
   "id": "4eff785a-0117-4143-8210-4f10fa6858ee",
   "metadata": {},
   "outputs": [],
   "source": [
    "type(clipped_raster)"
   ]
  },
  {
   "cell_type": "code",
   "execution_count": null,
   "id": "767c58b2-1ae4-4b3a-a0e3-b5a4581055b0",
   "metadata": {},
   "outputs": [],
   "source": [
    "clipped_raster.rio.to_raster(str(ID)+\"_\"+str(dem_id)+'.tif')"
   ]
  },
  {
   "cell_type": "code",
   "execution_count": null,
   "id": "68a076cc-803d-48bf-8da1-ebaa649abdf8",
   "metadata": {},
   "outputs": [],
   "source": [
    "dem_id = df.DEM_ID[i]\n",
    "folder = \"/nas/cee-water/cjgleason/wenwen/SARN_HMA\"\n",
    "path = os.path.join(folder, str(ID)+\"_\"+str(dem_id)+'.tif')\n",
    "raster = rio.open(path)\n",
    "raster_to_mosiac.append(raster)"
   ]
  },
  {
   "cell_type": "code",
   "execution_count": null,
   "id": "06ac207c-6b89-4753-bf75-1a78cf866b21",
   "metadata": {},
   "outputs": [],
   "source": [
    "type(raster)"
   ]
  },
  {
   "cell_type": "code",
   "execution_count": null,
   "id": "34c02f16-bbdb-4149-95d4-e8f5c1199aa5",
   "metadata": {},
   "outputs": [],
   "source": [
    "range(len(df))\n",
    "for n in range(len(df)): \n",
    "    print(n)"
   ]
  },
  {
   "cell_type": "code",
   "execution_count": null,
   "id": "24089bc5-c8de-4b8a-a498-98224e1b5a1b",
   "metadata": {},
   "outputs": [],
   "source": [
    "from rasterio.plot import show\n",
    "from rasterio.merge import merge\n",
    "import rasterio as rio\n",
    "from pathlib import Path"
   ]
  },
  {
   "cell_type": "code",
   "execution_count": null,
   "id": "090900dd-7983-495d-9f30-3225158dae2c",
   "metadata": {},
   "outputs": [],
   "source": [
    "path = Path('data/')\n",
    "Path('output').mkdir(parents=True, exist_ok=True)\n",
    "output_path = 'output/mosaic_output.tif'"
   ]
  },
  {
   "cell_type": "code",
   "execution_count": null,
   "id": "c8e0473a-c4fc-4e1d-a1be-ec61429729ac",
   "metadata": {},
   "outputs": [],
   "source": [
    "raster_to_mosiac = []"
   ]
  },
  {
   "cell_type": "code",
   "execution_count": null,
   "id": "b1195fcc-5d14-49f0-abe4-c7aa546625f9",
   "metadata": {},
   "outputs": [],
   "source": [
    "for i in list(df.index.values):\n",
    "    dem_id = df.DEM_ID[i]\n",
    "    folder = \"/nas/cee-water/cjgleason/wenwen/SARN_HMA\"\n",
    "    path = os.path.join(folder, str(ID)+\"_\"+str(dem_id)+'.tif')\n",
    "    raster = rio.open(path)\n",
    "    raster_to_mosiac.append(raster)"
   ]
  },
  {
   "cell_type": "code",
   "execution_count": null,
   "id": "8f1d38e4-b2e5-40a0-908d-01141212aad7",
   "metadata": {},
   "outputs": [],
   "source": [
    "raster_to_mosiac"
   ]
  },
  {
   "cell_type": "code",
   "execution_count": null,
   "id": "d21ac7a6-a5f4-40e3-8b7a-42ca2b8b5664",
   "metadata": {},
   "outputs": [],
   "source": [
    "mosaic, output = merge(raster_to_mosiac)"
   ]
  },
  {
   "cell_type": "code",
   "execution_count": null,
   "id": "fae670a4-a729-476e-9c48-dcc4651ea96f",
   "metadata": {},
   "outputs": [],
   "source": [
    "output_meta = raster.meta.copy()\n",
    "output_meta.update(\n",
    "    {\"driver\": \"GTiff\",\n",
    "        \"height\": mosaic.shape[1],\n",
    "        \"width\": mosaic.shape[2],\n",
    "        \"transform\": output,\n",
    "    }\n",
    ")"
   ]
  },
  {
   "cell_type": "code",
   "execution_count": null,
   "id": "2dd20470-4775-4a84-9d65-459c282b602a",
   "metadata": {},
   "outputs": [],
   "source": [
    "with rio.open(output_path, \"w\", **output_meta) as m:\n",
    "    m.write(mosaic)"
   ]
  },
  {
   "cell_type": "code",
   "execution_count": null,
   "id": "c7151992-642d-4695-a46a-29f0c53a3346",
   "metadata": {},
   "outputs": [],
   "source": [
    "\"/nas/cee-water/cjgleason/wenwen/SARN_HMA/mask_mosaics/\"+str(ID)+\"_mosaic_.tif\""
   ]
  },
  {
   "cell_type": "code",
   "execution_count": null,
   "id": "6167ac26-f6eb-4a96-8798-98630133f5b5",
   "metadata": {},
   "outputs": [],
   "source": [
    "lst = intersection.COMID\n",
    "COMID_lst = [*set(lst)]\n",
    "i=0"
   ]
  },
  {
   "cell_type": "code",
   "execution_count": null,
   "id": "bac5d4bd-42b9-40a1-a14f-cf1f2a04843c",
   "metadata": {},
   "outputs": [],
   "source": [
    "ID = 45035863\n",
    "type(intersection[intersection.COMID==ID])"
   ]
  },
  {
   "cell_type": "code",
   "execution_count": null,
   "id": "6646d583-44ac-4bcf-966a-45e774bf63e9",
   "metadata": {},
   "outputs": [],
   "source": [
    "df = intersection[intersection.COMID==ID]\n",
    "geom = df.geometry"
   ]
  },
  {
   "cell_type": "code",
   "execution_count": null,
   "id": "7860d99c-60e7-4da1-b4ef-4b9c1c63c3a3",
   "metadata": {},
   "outputs": [],
   "source": [
    "df"
   ]
  },
  {
   "cell_type": "code",
   "execution_count": null,
   "id": "ff25dcc2-dc2b-4c04-bbd3-f25974ffaa90",
   "metadata": {},
   "outputs": [],
   "source": [
    "#get DEM crs from DEM_ID \n",
    "dem_id = df.DEM_ID[i]\n",
    "utm = \"326\" + dem_id[3:5]\n",
    "        \n",
    "#reproject watershed polygon \n",
    "geom_setcrs = geom.set_crs('EPSG:4326')\n",
    "geom_projected = geom_setcrs.to_crs('EPSG:'+ utm)"
   ]
  },
  {
   "cell_type": "code",
   "execution_count": null,
   "id": "791b6c7b-b02d-45df-96e1-31ac467b0a8a",
   "metadata": {},
   "outputs": [],
   "source": [
    "geom_projected"
   ]
  },
  {
   "cell_type": "code",
   "execution_count": null,
   "id": "850d6d1f-3222-4fbb-b04d-b971187720c1",
   "metadata": {},
   "outputs": [],
   "source": [
    "dem_path = os.path.join(\"/nas/cee-water/cjgleason/wenwen/SARN_HMA/EarthDEM/Order_Downloads_2023-02-22-2002/earthdem\", df.DEM_ID[i], df.DEM_ID[i]+\"_dem.tif\")\n",
    "raster = rxr.open_rasterio(dem_path)"
   ]
  },
  {
   "cell_type": "code",
   "execution_count": null,
   "id": "02bc5c7c-95ff-42a8-9070-17223975b455",
   "metadata": {
    "tags": []
   },
   "outputs": [],
   "source": [
    "[geom_projected.geometry[0]]"
   ]
  },
  {
   "cell_type": "code",
   "execution_count": null,
   "id": "88ac7bbb-b03a-4950-9969-c85883b892d2",
   "metadata": {},
   "outputs": [],
   "source": [
    "ID = 45017090\n",
    "i=261\n",
    "type(intersection[intersection.COMID==ID])"
   ]
  },
  {
   "cell_type": "code",
   "execution_count": null,
   "id": "906c8b7c-6de8-4363-a9b2-de108bac92b0",
   "metadata": {},
   "outputs": [],
   "source": [
    "df = intersection[intersection.COMID==ID]\n",
    "geom = df.geometry"
   ]
  },
  {
   "cell_type": "code",
   "execution_count": null,
   "id": "bea1fd10-ad66-48d0-bbbf-3bc4974c1508",
   "metadata": {},
   "outputs": [],
   "source": [
    "df"
   ]
  },
  {
   "cell_type": "code",
   "execution_count": null,
   "id": "ff453d06-180f-4507-ac89-3759ae9b6ff7",
   "metadata": {},
   "outputs": [],
   "source": [
    "#get DEM crs from DEM_ID \n",
    "dem_id = df.DEM_ID[i]\n",
    "utm = \"326\" + dem_id[3:5]\n",
    "        \n",
    "#reproject watershed polygon \n",
    "geom_setcrs = geom.set_crs('EPSG:4326')\n",
    "geom_projected = geom_setcrs.to_crs('EPSG:'+ utm)"
   ]
  },
  {
   "cell_type": "code",
   "execution_count": null,
   "id": "26caee99-1260-4016-b305-1f2ea737ba98",
   "metadata": {},
   "outputs": [],
   "source": [
    "geom_projected"
   ]
  },
  {
   "cell_type": "code",
   "execution_count": null,
   "id": "e1ae2885-1890-400f-b86e-489d72a08450",
   "metadata": {},
   "outputs": [],
   "source": [
    "dem_path = os.path.join(\"/nas/cee-water/cjgleason/wenwen/SARN_HMA/EarthDEM/Order_Downloads_2023-02-22-2002/earthdem\", df.DEM_ID[i], df.DEM_ID[i]+\"_dem.tif\")\n",
    "raster = rxr.open_rasterio(dem_path)"
   ]
  },
  {
   "cell_type": "code",
   "execution_count": null,
   "id": "00813281-fb94-4e0e-a44c-5c772186a1c6",
   "metadata": {
    "tags": []
   },
   "outputs": [],
   "source": [
    "[geom_projected.geometry[261]]"
   ]
  }
 ],
 "metadata": {
  "kernelspec": {
   "display_name": "Python (.conda-sarn_env)",
   "language": "python",
   "name": "conda-env-.conda-sarn_env-py"
  },
  "language_info": {
   "codemirror_mode": {
    "name": "ipython",
    "version": 3
   },
   "file_extension": ".py",
   "mimetype": "text/x-python",
   "name": "python",
   "nbconvert_exporter": "python",
   "pygments_lexer": "ipython3",
   "version": "3.10.9"
  }
 },
 "nbformat": 4,
 "nbformat_minor": 5
}
